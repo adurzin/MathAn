{
 "cells": [
  {
   "cell_type": "markdown",
   "id": "16f50537",
   "metadata": {},
   "source": [
    "# Тема 6 “Понятие о производной”"
   ]
  },
  {
   "cell_type": "markdown",
   "id": "5fac3714",
   "metadata": {},
   "source": [
    "### 1. Найти производную выражения:"
   ]
  },
  {
   "cell_type": "markdown",
   "id": "07ecc546",
   "metadata": {},
   "source": [
    "### a. $ (sin(x) \\cdot cos(x))' = cos^{2}(x) - sin^{2}(x)\n",
    "$"
   ]
  },
  {
   "cell_type": "markdown",
   "id": "7ceda7c2",
   "metadata": {},
   "source": [
    "### b. $ (ln(2x + 1)^{3})' = 3\\cdot ln(2x + 1) = 3 \\cdot \\frac{1}{2x+1} \\cdot 2 = \\frac{6}{2x+1}\n",
    "$"
   ]
  },
  {
   "cell_type": "markdown",
   "id": "30c5d687",
   "metadata": {},
   "source": [
    "### c. $ (\\sqrt{sin^{2}(ln(x^{3}))})' = (|sin(3\\cdot ln(x))|)' = \\frac{sin(3\\cdot ln(x))}{|sin(3\\cdot ln(x))|} \\cdot cos(3\\cdot ln(x)) \\cdot \\frac{3}{x} = \\frac{3 \\cdot sin(3\\cdot ln(x))\\cdot cos(3\\cdot ln(x))}{x \\cdot |sin(3\\cdot ln(x))|}\n",
    "$"
   ]
  },
  {
   "cell_type": "markdown",
   "id": "0da39df8",
   "metadata": {},
   "source": [
    "### d.  $ (\\frac{x^{4}}{ln(x)})' = \\frac{4\\cdot x^{3} - x^{4} \\cdot \\frac{1}{x}}{ln^{2}(x)} = \\frac{4\\cdot x^{3} - x^{3}}{ln^{2}(x)}\n",
    "$"
   ]
  },
  {
   "cell_type": "markdown",
   "id": "6332fcc7",
   "metadata": {},
   "source": [
    "### 2. Найти выражение производной функции и ее значение в точке:"
   ]
  },
  {
   "cell_type": "markdown",
   "id": "35a4d3bc",
   "metadata": {},
   "source": [
    "### $f(x) = cos(x^{2} + 3x), \\ x_{0} = \\sqrt{\\pi}\n",
    "$"
   ]
  },
  {
   "cell_type": "markdown",
   "id": "0ebf8477",
   "metadata": {},
   "source": [
    "### $f'(x) = (cos(x^{2} + 3x))' = -sin(x^{2} + 3x)\\cdot (2x+3) \\\\\n",
    " f'(x_{0}) = -sin(\\pi + 3\\sqrt{\\pi})\\cdot (2\\sqrt{\\pi}+3) = -sin(8.46)\\cdot(6.54) = - 5.38\n",
    "$"
   ]
  },
  {
   "cell_type": "markdown",
   "id": "2086d0a4",
   "metadata": {},
   "source": [
    "### 3. Найти значение производной функции в точке:"
   ]
  },
  {
   "cell_type": "markdown",
   "id": "8b430156",
   "metadata": {},
   "source": [
    "### $ f(x) = \\frac{x^{3}-x^{2}-x-1}{1+2x+3x^{2}-4x^{3}}, \\ x_{0} = 0\n",
    "$"
   ]
  },
  {
   "cell_type": "markdown",
   "id": "22f64941",
   "metadata": {},
   "source": [
    "### $ f'(x) = \\frac{(3x^{2}- 2x-1)(1+2x+3x^{2}-4x^{3}) - (2+6x-12x^{2})(x^{3}-x^{2}-x-1)}{(1+2x+3x^{2}-4x^{3})^{2}} \\\\\n",
    "f'(x_{0}) = \\frac{(0^{2}- 0-1)(1+0+0^{2}-0^{3})-(2+0-0^{2})(0^{3}-0^{2}-0-1)}{(1+0+0^{2}-0^{3})^{2}} = \\frac{(-1)\\cdot1 - 2\\cdot(-1)}{1^2} = 1\n",
    "$"
   ]
  },
  {
   "cell_type": "markdown",
   "id": "a004731f",
   "metadata": {},
   "source": [
    "### 4. Найти угол наклона касательной к графику функции в точке:"
   ]
  },
  {
   "cell_type": "markdown",
   "id": "c978ebb8",
   "metadata": {},
   "source": [
    "### $ f(x) = \\sqrt{3x} \\cdot ln(x), \\ x_{0} = 1 \\\\\n",
    "f'(x) = \\frac{\\sqrt{3}\\cdot ln(x)}{2\\sqrt{x}} + \\frac{\\sqrt{3}}{x} \\\\\n",
    "f'(x_{0}) = \\frac{\\sqrt{3}\\cdot ln(1)}{2\\sqrt{1}} + \\frac{\\sqrt{3}}{1} = 0 + 1 = 1\n",
    "$"
   ]
  }
 ],
 "metadata": {
  "kernelspec": {
   "display_name": "Python 3 (ipykernel)",
   "language": "python",
   "name": "python3"
  },
  "language_info": {
   "codemirror_mode": {
    "name": "ipython",
    "version": 3
   },
   "file_extension": ".py",
   "mimetype": "text/x-python",
   "name": "python",
   "nbconvert_exporter": "python",
   "pygments_lexer": "ipython3",
   "version": "3.10.0"
  }
 },
 "nbformat": 4,
 "nbformat_minor": 5
}
