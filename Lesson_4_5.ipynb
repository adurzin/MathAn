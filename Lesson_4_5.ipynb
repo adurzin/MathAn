{
 "cells": [
  {
   "cell_type": "markdown",
   "id": "d62daddb",
   "metadata": {},
   "source": [
    "# Тема “Предел функции”"
   ]
  },
  {
   "cell_type": "markdown",
   "id": "f9b9cf77",
   "metadata": {},
   "source": [
    "### 1. Предложить пример функции, не имеющей предела в нуле и в бесконечностях."
   ]
  },
  {
   "cell_type": "markdown",
   "id": "822b5c27",
   "metadata": {},
   "source": [
    "###  Ответ: $$f(x) =  ctg({x})$$"
   ]
  },
  {
   "cell_type": "markdown",
   "id": "3c8ae1f9",
   "metadata": {},
   "source": [
    "### 2. Привести пример функции, не имеющей предела в точке, но определенной в ней."
   ]
  },
  {
   "cell_type": "markdown",
   "id": "840b9985",
   "metadata": {},
   "source": [
    "###  Ответ: $$\\lim\\limits_{x\\to 0} \\ln{x} = -\\infty$$"
   ]
  },
  {
   "cell_type": "markdown",
   "id": "7ffaa067",
   "metadata": {},
   "source": [
    "### 3. Исследовать функцию $f(x) = x^{3} - x^{2}$  по плану:\n",
    "**a. Область задания и область значений.**  \n",
    "\n",
    "**b. Нули функции и их кратность.**  \n",
    "\n",
    "**c. Отрезки знакопостоянства.**  \n",
    "\n",
    "\n",
    "**d. Интервалы монотонности.**  \n",
    "\n",
    "\n",
    "**e. Четность функции.**  \n",
    "\n",
    "\n",
    "**f. Ограниченность.**  \n",
    "\n",
    "\n",
    "**g. Периодичность.** "
   ]
  },
  {
   "cell_type": "markdown",
   "id": "73751f91",
   "metadata": {},
   "source": [
    "### Ответ:\n",
    "\n",
    "a. Область задания и область значений\n",
    "$$D(f) = (-\\infty; +\\infty),\\  E(f) = (-\\infty;+\\infty)$$\n",
    "b. Нули функции и их кратность\n",
    "$$ x^3 - x^2 = 0 \\\\ x^{2}(x - 1) = 0 \\\\ x^2 = 0\\ (кратность=2),\\ x-1 = 0 \\\\ x = 0\\ (кратность=2),\\ x = 1$$\n",
    "\n",
    "c. Отрезки знакопостоянства\n",
    "$$ f(x)\\ >\\ 0,\\ если\\ x\\in (1; +\\infty)\\\\ f(x)\\ < 0,\\ если\\ x\\in (-\\infty;1)$$\n",
    "\n",
    "d. Интервалы монотонности\n",
    "$$ функция\\ возрастающая,\\ если\\ x\\in (-\\infty;0)\\cup(\\frac{2}{3}; +\\infty)\\\\ функция\\ убывающая,\\ если\\ x\\in (0;\\frac{2}{3})$$\n",
    "\n",
    "e. Функция не является ни четной ни нечетной.\n",
    "\n",
    "f. Функция не ограничена снизу и сверху.\n",
    "\n",
    "g. Функция не периодическая."
   ]
  },
  {
   "cell_type": "markdown",
   "id": "2b022cb5",
   "metadata": {},
   "source": [
    "### 4. Найти предел:"
   ]
  },
  {
   "cell_type": "markdown",
   "id": "e91d8eec",
   "metadata": {},
   "source": [
    "a. $\\lim\\limits_{x\\to 0} \\frac{3 x^3 - 2 x^2}{4 x^2} = \\lim\\limits_{x\\to 0} \\frac{x^2(3x - 2)}{4 x^2} = \\lim\\limits_{x\\to 0} \\frac{3x - 2}{4} = \\lim\\limits_{x\\to 0} (\\frac{3x}{4} - \\frac{2}{4}) = -\\frac{1}{2}$"
   ]
  },
  {
   "cell_type": "markdown",
   "id": "72f08840",
   "metadata": {},
   "source": [
    "b. $ \\lim\\limits_{x\\to 0} \\frac{\\sqrt{1+x} - 1}{\\sqrt[3]{1+x} - 1} = \\lim\\limits_{x\\to 0} \\frac{(\\sqrt{1+x} - 1) ( \\sqrt[\\frac{2}{3}]{1+x} + \\sqrt[3]{1+x} + 1)}{(\\sqrt[3]{1+x} - 1) ( \\sqrt[\\frac{2}{3}]{1+x} + \\sqrt[3]{1+x} + 1)} = \\lim\\limits_{x\\to 0} \\frac{(\\sqrt{1+x} - 1) ( \\sqrt[\\frac{2}{3}]{1+x} + \\sqrt[3]{1+x} + 1)}{1 + x - 1} = \\lim\\limits_{x\\to 0} \\frac{\\sqrt{1+x} - 1}{x} \\cdot \\lim\\limits_{x\\to 0} \\sqrt[\\frac{2}{3}]{1+x} + \\sqrt[3]{1+x} + 1 = \\lim\\limits_{x\\to 0} \\frac{\\sqrt{1+x} - 1}{x} \\cdot 1 + 1 + 1 = 3 \\cdot \\lim\\limits_{x\\to 0} \\frac{\\sqrt{1+x} - 1}{x} = 3 \\cdot \\lim\\limits_{x\\to 0} \\frac{(\\sqrt{1+x} - 1)(\\sqrt{1+x} + 1)}{x(\\sqrt{1+x} + 1)} = 3 \\cdot \\lim\\limits_{x\\to 0} \\frac{(1+x) - 1}{x\\sqrt{1+x} + x} = \n",
    "3 \\cdot \\lim\\limits_{x\\to 0} \\frac{x}{x\\sqrt{1+x} + x} = 3 \\cdot \\lim\\limits_{x\\to 0} \\frac{1}{\\sqrt{1+x} + x} = 3 \\cdot \\lim\\limits_{x\\to 0} \\frac{1}{\\sqrt{1+0}+1} = \\frac{3}{2} = 1.5$"
   ]
  },
  {
   "cell_type": "markdown",
   "id": "5691f859",
   "metadata": {},
   "source": [
    "c. $\\lim\\limits_{x\\to\\infty} (\\frac{x+3}{x})^{4x+1} = \\lim\\limits_{x\\to\\infty} (\\frac{x}{x} + \\frac {3}{x})^{4x+1} = \\lim\\limits_{x\\to\\infty} (1 + \\frac {3}{x})^{\\frac{x}{3}(4x+1)\\frac {3}{x}} = e ^{\\lim\\limits_{x\\to\\infty} (4x+1)\\frac {3}{x}} = e ^{\\lim\\limits_{x\\to\\infty} 12 + \\frac {3}{x}} = e ^{12}\n",
    "$"
   ]
  },
  {
   "cell_type": "markdown",
   "id": "679602aa",
   "metadata": {},
   "source": [
    "# Тема “Теоремы о пределах”\n"
   ]
  },
  {
   "cell_type": "markdown",
   "id": "5d7c0e70",
   "metadata": {},
   "source": [
    "### 1. Найти предел:"
   ]
  },
  {
   "cell_type": "markdown",
   "id": "d4047685",
   "metadata": {},
   "source": [
    "### a. $\\lim\\limits_{x\\to0} \\frac{sin(2x)}{4x} = \\lim\\limits_{x\\to0} \\frac{2 \\cdot sin(2x)}{2 \\cdot 4x} = \\lim\\limits_{x\\to0} \\frac{2 \\cdot sin(2x)}{4 \\cdot 2x} = \\frac{2}{4} = 0.5\n",
    "$"
   ]
  },
  {
   "cell_type": "markdown",
   "id": "afe5ea30",
   "metadata": {},
   "source": [
    "### b. $\\lim\\limits_{x\\to0} \\frac{x}{sin(x)} = \\lim\\limits_{x\\to0} \\frac{\\frac{dx}{dx}}{\\frac{d sin(x)}{dx}} = \\lim\\limits_{x\\to0} \\frac{1}{cos(x)} = \\frac{1}{cos(0)} = 1$"
   ]
  },
  {
   "cell_type": "markdown",
   "id": "ca185382",
   "metadata": {},
   "source": [
    "### с. $\\lim\\limits_{x\\to0} \\frac{x}{arcsin(x)} = \\lim\\limits_{x\\to0} \\frac{\\frac{dx}{dx}}{\\frac{d arcsin(x)}{dx}} = \\lim\\limits_{x\\to0} \\frac{1}{\\frac{1}{\\sqrt{1-x^{2}}}} = \\lim\\limits_{x\\to0} \\sqrt{1-x^{2}} = \\sqrt{1-0^{2}} = 1$ "
   ]
  },
  {
   "cell_type": "markdown",
   "id": "77af7d27",
   "metadata": {},
   "source": [
    "### d. $\\lim\\limits_{x\\to\\infty} (\\frac{4x+3}{4x-3})^{6x} = \\lim\\limits_{x\\to\\infty} (\\frac{4x-3+6}{4x-3})^{6x} = \\lim\\limits_{x\\to\\infty} (1 + \\frac{6}{4x-3})^{\\frac{4x-3}{6}6x\\frac{6}{4x-3}} = e^{\\lim\\limits_{x\\to\\infty} 6x\\frac{6}{4x-3}} = e^{\\lim\\limits_{x\\to\\infty} \\frac{36x}{4x-3}} = e^{\\frac{36}{4}} = e^{12}\n",
    "$"
   ]
  },
  {
   "cell_type": "markdown",
   "id": "0afc4a4f",
   "metadata": {},
   "source": [
    "### e. $\\lim\\limits_{x\\to\\infty} \\frac{sin(x) + ln(x)}{x} = \\lim\\limits_{x\\to\\infty} (\\frac{sin(x)}{x} + \\frac{ln(x)}{x}) = \\frac{sin(\\infty)}{\\infty} + \\frac{ln(\\infty)}{\\infty} = 0 + 0 = 0\n",
    "$"
   ]
  },
  {
   "cell_type": "markdown",
   "id": "0ca9b11a",
   "metadata": {},
   "source": [
    "### f. $\\lim\\limits_{x\\to0} \\frac{sin(x) + ln(x)}{x} = \\lim\\limits_{x\\to0} \\frac{sin(x)}{x} + \\lim\\limits_{x\\to0} \\frac{ln(x)}{x} = 1 + \\lim\\limits_{x\\to0} \\frac{\\frac{d ln(x)}{dx}}{\\frac{dx}{dx}} = 1 + \\lim\\limits_{x\\to0} \\frac{\\frac{1}{x}}{1} = 1 + \\frac{1}{0} = 1 + \\infty = \\infty$ "
   ]
  },
  {
   "cell_type": "code",
   "execution_count": null,
   "id": "23bce814",
   "metadata": {},
   "outputs": [],
   "source": []
  }
 ],
 "metadata": {
  "kernelspec": {
   "display_name": "Python 3 (ipykernel)",
   "language": "python",
   "name": "python3"
  },
  "language_info": {
   "codemirror_mode": {
    "name": "ipython",
    "version": 3
   },
   "file_extension": ".py",
   "mimetype": "text/x-python",
   "name": "python",
   "nbconvert_exporter": "python",
   "pygments_lexer": "ipython3",
   "version": "3.10.0"
  }
 },
 "nbformat": 4,
 "nbformat_minor": 5
}
