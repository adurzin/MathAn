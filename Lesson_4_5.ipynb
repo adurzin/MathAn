{
 "cells": [
  {
   "cell_type": "markdown",
   "id": "d62daddb",
   "metadata": {},
   "source": [
    "# Тема “Предел функции”"
   ]
  },
  {
   "cell_type": "markdown",
   "id": "f9b9cf77",
   "metadata": {},
   "source": [
    "### 1. Предложить пример функции, не имеющей предела в нуле и в бесконечностях."
   ]
  },
  {
   "cell_type": "markdown",
   "id": "822b5c27",
   "metadata": {},
   "source": [
    "###  Ответ: $$f(x) =  ctg({x})$$"
   ]
  },
  {
   "cell_type": "markdown",
   "id": "3c8ae1f9",
   "metadata": {},
   "source": [
    "### 2. Привести пример функции, не имеющей предела в точке, но определенной в ней."
   ]
  },
  {
   "cell_type": "markdown",
   "id": "840b9985",
   "metadata": {},
   "source": [
    "###  Ответ: $$\\lim\\limits_{x\\to 0} \\ln{x} = -\\infty$$"
   ]
  },
  {
   "cell_type": "markdown",
   "id": "7ffaa067",
   "metadata": {},
   "source": [
    "### 3. Исследовать функцию $f(x) = x^{3} - x^{2}$  по плану:\n",
    "**a. Область задания и область значений.**  \n",
    "\n",
    "**b. Нули функции и их кратность.**  \n",
    "\n",
    "**c. Отрезки знакопостоянства.**  \n",
    "\n",
    "\n",
    "**d. Интервалы монотонности.**  \n",
    "\n",
    "\n",
    "**e. Четность функции.**  \n",
    "\n",
    "\n",
    "**f. Ограниченность.**  \n",
    "\n",
    "\n",
    "**g. Периодичность.** "
   ]
  },
  {
   "cell_type": "markdown",
   "id": "73751f91",
   "metadata": {},
   "source": [
    "### Ответ:\n",
    "\n",
    "a. Область задания и область значений\n",
    "$$D(f) = (-\\infty; +\\infty),\\  E(f) = (-\\infty;+\\infty)$$\n",
    "b. Нули функции и их кратность\n",
    "$$ x^3 - x^2 = 0 \\\\ x^{2}(x - 1) = 0 \\\\ x^2 = 0\\ (кратность=2),\\ x-1 = 0 \\\\ x = 0\\ (кратность=2),\\ x = 1$$\n",
    "\n",
    "c. Отрезки знакопостоянства\n",
    "$$ f(x)\\ >\\ 0,\\ если\\ x\\in (1; +\\infty)\\\\ f(x)\\ < 0,\\ если\\ x\\in (-\\infty;1)$$\n",
    "\n",
    "d. Интервалы монотонности\n",
    "$$ функция\\ возрастающая,\\ если\\ x\\in (-\\infty;0)\\cup(\\frac{2}{3}; +\\infty)\\\\ функция\\ убывающая,\\ если\\ x\\in (0;\\frac{2}{3})$$\n",
    "\n",
    "e. Функция не является ни четной ни нечетной.\n",
    "\n",
    "f. Функция не ограничена снизу и сверху.\n",
    "\n",
    "g. Функция не периодическая."
   ]
  },
  {
   "cell_type": "markdown",
   "id": "2b022cb5",
   "metadata": {},
   "source": [
    "### 4. Найти предел:"
   ]
  },
  {
   "cell_type": "markdown",
   "id": "e91d8eec",
   "metadata": {},
   "source": [
    "a. $\\lim\\limits_{x\\to 0} \\frac{3 x^3 - 2 x^2}{4 x^2} = \\lim\\limits_{x\\to 0} \\frac{x^2(3x - 2)}{4 x^2} = \\lim\\limits_{x\\to 0} \\frac{3x - 2}{4} = \\lim\\limits_{x\\to 0} (\\frac{3x}{4} - \\frac{2}{4}) = -\\frac{1}{2}$"
   ]
  },
  {
   "cell_type": "markdown",
   "id": "72f08840",
   "metadata": {},
   "source": [
    "b. $\\lim\\limits_{x\\to 0} \\sqrt[3]{a}$"
   ]
  },
  {
   "cell_type": "code",
   "execution_count": null,
   "id": "243ff5d6",
   "metadata": {},
   "outputs": [],
   "source": []
  }
 ],
 "metadata": {
  "kernelspec": {
   "display_name": "Python 3 (ipykernel)",
   "language": "python",
   "name": "python3"
  },
  "language_info": {
   "codemirror_mode": {
    "name": "ipython",
    "version": 3
   },
   "file_extension": ".py",
   "mimetype": "text/x-python",
   "name": "python",
   "nbconvert_exporter": "python",
   "pygments_lexer": "ipython3",
   "version": "3.9.2"
  }
 },
 "nbformat": 4,
 "nbformat_minor": 5
}
