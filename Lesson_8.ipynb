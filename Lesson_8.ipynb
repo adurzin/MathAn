{
 "cells": [
  {
   "cell_type": "markdown",
   "id": "ee62f818",
   "metadata": {},
   "source": [
    "# Производные функций нескольких переменных"
   ]
  },
  {
   "cell_type": "markdown",
   "id": "37517619",
   "metadata": {},
   "source": [
    "### 1. Найти область определения функции.\n",
    "\n",
    "### $ z = \\sqrt{1-x^{3}} + ln(y^{2} - 1)\n",
    "$"
   ]
  },
  {
   "cell_type": "markdown",
   "id": "38c472d0",
   "metadata": {},
   "source": [
    "### $ 1 - x^{3} \\ge 0 \\Rightarrow x \\le 1 \\\\\n",
    "y^{2} - 1 > 0 \\Rightarrow y > 1; y < -1$\n",
    "### Ответ: $(x \\le 1 ,y > 1) \\ или \\ (x \\le 1, y < -1)$ "
   ]
  },
  {
   "cell_type": "markdown",
   "id": "35c48e85",
   "metadata": {},
   "source": [
    "### 2. Найти производные 1-го порядка функции.\n",
    "\n",
    "### $ z = (1+\\frac{ln(x)}{ln(y)})^{3}\n",
    "$"
   ]
  },
  {
   "cell_type": "markdown",
   "id": "f1ab0da7",
   "metadata": {},
   "source": [
    "### $ z'_{x} = 3 \\cdot (1 + \\frac{ln(x)}{ln(y)})^{2} \\cdot \\frac{1}{xln(y)} \\\\\n",
    "z'_{y} = 3 \\cdot (1 + \\frac{ln(x)}{ln(y)})^{2} \\cdot (-\\frac{ln(x)}{y \\cdot ln^{2}(y)})\n",
    "$"
   ]
  },
  {
   "cell_type": "markdown",
   "id": "28082e74",
   "metadata": {},
   "source": [
    "### 3. Найти полный дифференциал функции в точке (1;1).\n",
    "\n",
    "### $ z = \\sqrt{2xy + cos(\\frac{x}{y})}\n",
    "$"
   ]
  },
  {
   "cell_type": "markdown",
   "id": "59cbdd00",
   "metadata": {},
   "source": [
    "### $ \\frac{\\partial z}{\\partial x} = \\frac{1}{2} \\cdot \\frac{1}{\\sqrt{2xy+cos(\\frac{x}{y})}} \\cdot (2y - sin(\\frac{x}{y})\\cdot \\frac{1}{y}) = \\frac{y}{\\sqrt{2xy+cos(\\frac{x}{y})}} - \\frac{sin\\frac{x}{y}}{2y\\sqrt{2xy+cos(\\frac{x}{y})}}; \\\\\n",
    "\\frac{\\partial z}{\\partial y} = \\frac{1}{2} \\cdot \\frac{1}{\\sqrt{2xy+cos(\\frac{x}{y})}} \\cdot (2x + sin(\\frac{x}{y})\\cdot \\frac{x}{y^{2}}) = \\frac{x}{{\\sqrt{2xy+cos(\\frac{x}{y})}}} + \\frac{x \\cdot sin(\\frac{x}{y})}{2y^{2}{\\sqrt{2xy+cos(\\frac{x}{y})}}} \\\\\n",
    "dW(1,1) = \\frac{\\partial z}{\\partial x}\\cdot dx + \\frac{\\partial z}{\\partial y} \\cdot dy = (\\frac{1}{\\sqrt{2+cos(1)}} - \\frac{sin(1)}{2\\sqrt{2 + cos(1)}})dx + (\\frac{1}{\\sqrt{2+cos(1)}} + \\frac{1}{2\\sqrt{2 + cos(1)}})dy = 0,364dx + 0,94dy\n",
    "$"
   ]
  },
  {
   "cell_type": "markdown",
   "id": "4839537c",
   "metadata": {},
   "source": [
    "### 4. Исследовать на экстремум функцию.\n",
    "\n",
    "### $ z = x^{2} + xy + y^{2} - 6x - 9y\n",
    "$"
   ]
  },
  {
   "cell_type": "markdown",
   "id": "2f675578",
   "metadata": {},
   "source": [
    "### $ z'_{x} = 2x + y - 6; \\\\\n",
    "z'_{y} = x + 2y -9; \\\\\n",
    "\\begin{equation*}\n",
    "    \\begin{cases}\n",
    "    2x + y - 6 = 0; \\\\\n",
    "    x + 2y - 9 = 0;\n",
    "    \\end{cases}\n",
    "\\end{equation*}\n",
    "(2) x = 9 - 2y \\\\\n",
    "18 - 4y + y - 6 = 0 \\\\\n",
    "y = 4 \\\\\n",
    "x = 1 \\\\\n",
    "z''_{xy} = 0 + 1 - 0 = 1 \\\\\n",
    "z''_{xx} = 2 + 0 - 0 = 2 \\\\\n",
    "z''_{yy} = 0 + 2 - 0 = 2 \\\\\n",
    "\\begin{bmatrix}\n",
    "2 & 1\\\\\n",
    "1& 2\n",
    "\\end{bmatrix} = 4 - 1 = 3 > 0  - точка \\ экстремума \\ есть; \\\\\n",
    "z''_{xx} > 0 - минимум \\ функции.\n",
    "$\n",
    "\n",
    "### Ответ: точка (1;4) - экстремум функции Z (минимум)"
   ]
  }
 ],
 "metadata": {
  "kernelspec": {
   "display_name": "Python 3 (ipykernel)",
   "language": "python",
   "name": "python3"
  },
  "language_info": {
   "codemirror_mode": {
    "name": "ipython",
    "version": 3
   },
   "file_extension": ".py",
   "mimetype": "text/x-python",
   "name": "python",
   "nbconvert_exporter": "python",
   "pygments_lexer": "ipython3",
   "version": "3.10.0"
  }
 },
 "nbformat": 4,
 "nbformat_minor": 5
}
