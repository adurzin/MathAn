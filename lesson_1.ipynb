{
 "cells": [
  {
   "cell_type": "markdown",
   "id": "89fdafdc",
   "metadata": {},
   "source": [
    "# Тема “Введение в математический анализ”\n"
   ]
  },
  {
   "cell_type": "markdown",
   "id": "4211ee1c",
   "metadata": {},
   "source": [
    "## 1. Как соотносятся понятия “множество” и “последовательность”? (в ответе использовать слова типа: часть, целое, общее, частное, родитель, дочерний субъект и т.д.)"
   ]
  },
  {
   "cell_type": "markdown",
   "id": "60c7f130",
   "metadata": {},
   "source": [
    "Последовательность – это частный случай множества, в котором каждому элементу присвоен номер из натурального числа для нумерации, а также возможно вычисление каждого последующего элемента последовательности."
   ]
  },
  {
   "cell_type": "markdown",
   "id": "ca94263b",
   "metadata": {},
   "source": [
    "## 2. Прочитать высказывания математической логики, построить их отрицания и установить истинность."
   ]
  },
  {
   "cell_type": "markdown",
   "id": "59763627",
   "metadata": {},
   "source": [
    "### **1)** $\\forall$y $\\in$ [0;1]: sgn(y) = 1"
   ]
  },
  {
   "cell_type": "markdown",
   "id": "2b5db040",
   "metadata": {},
   "source": [
    "   \n",
    "   sgn(y) = {\n",
    "             1 if y > 0;\n",
    "             0 if y = 0;\n",
    "             -1 if y < 0\n",
    "             }\n",
    "\n",
    "Для любого элемента y от 0 включительно до 1 включительно верно, что sgn(y) = 1.\n",
    "\n",
    "**Ответ**: Высказывание **ложное** для y = 0 ⇒ sgn(y) = 0.\n",
    "\n",
    "**Отрицание**:\n",
    "        $\\exists$y $\\in$ [0;1]: sgn(y) $\\ne$ 1\n",
    "\n",
    "   Существует y от 0 включительно до 1 включительно при котором sgn(y) не равна (/=) 1."
   ]
  },
  {
   "cell_type": "markdown",
   "id": "f113e887",
   "metadata": {},
   "source": [
    "### **2)** $\\forall$n $\\in$ *N* > 2: $\\exists$x,y,z $\\in$ *N*: $x^n$ = $y^n$ + $z^n$"
   ]
  },
  {
   "cell_type": "markdown",
   "id": "9a4c711c",
   "metadata": {},
   "source": [
    "Для любого n из натуральных чисел больше 2 существует x,y,z из натуральных чисел, такой, что $x^n$ = $y^n$ + $z^n$.\n",
    "\n",
    "**Ответ**: Высказывание **ложно** для x=1, y=1, z=1 $\\longrightarrow$ $1^{n>2}$ = $1^{n>2}$ + $1^{n>2}$.\n",
    "    \n",
    "**Отрицание**:\n",
    "    $\\exists$n $\\in$ *N* > 2: $\\forall$x,y,z $\\in$ *N*: $x^n$ $\\ne$ $y^n$ + $z^n$\n",
    "\n",
    "Существует элемент n из натуральных чисел больше 2 для любых x,y,z из натуральных чисел, такой, что $x^n$ $\\ne$ $y^n$ + $z^n$."
   ]
  },
  {
   "cell_type": "markdown",
   "id": "25a4b502",
   "metadata": {},
   "source": [
    "### **3)** $\\forall$x $\\in$ *R* $\\exists$X $\\in$ *R*: X > x"
   ]
  },
  {
   "cell_type": "markdown",
   "id": "23b182a4",
   "metadata": {},
   "source": [
    "   Для любого x из вещественных чисел существует Х из вещественных чисел, такой, что  X > x.\n",
    "\n",
    "  **Ответ**: Высказывание **истинно** и эквивалентно отрицанию, так как  для любого вещественного числа можно найти число из вещественных чисел, которое будет как больше, так и меньше его.\n",
    "    \n",
    "   **Отрицание**:\n",
    "          $\\exists$x $\\in$ *R* $\\forall$X $\\in$ *R*: X $\\le$ x\n",
    "\n",
    "   Существует элемент x из вещественных чисел для любого Х из вещественных чисел, такой, что  X $\\le$ x. "
   ]
  },
  {
   "cell_type": "markdown",
   "id": "df998dda",
   "metadata": {},
   "source": [
    "### **4)** $\\forall$x $\\in$ *C* $\\nexists$y $\\in$ *C* : x > y || x< y"
   ]
  },
  {
   "cell_type": "markdown",
   "id": "46868990",
   "metadata": {},
   "source": [
    "   Для любого х из комплексных чисел не существует y из комплексных чисел при котором верно: x > y или x< y.\n",
    "\n",
    "  **Ответ**: Высказывание **ложно**, так как очень много комплексных чисел у может подходить под условие.\n",
    "    \n",
    "  **Отрицание**:\n",
    "          $\\exists$x $\\in$ *C* $\\exists$y $\\in$ *C* : x $\\le$ y || x $\\ge$ y\n",
    "\n",
    "   Существует х из комплексных чисел и существует у из комплексных чисел при которых верно: x $\\le$ y или x $\\ge$ y."
   ]
  },
  {
   "cell_type": "markdown",
   "id": "3add228e",
   "metadata": {},
   "source": [
    "### **5)** $\\forall$y $\\in$ [0; $\\pi$/2] $\\exists$$\\varepsilon$  > 0: sin y < sin(y + $\\varepsilon$)"
   ]
  },
  {
   "cell_type": "markdown",
   "id": "8de9eacc",
   "metadata": {},
   "source": [
    "   Для любого у  от 0 включительно до $\\pi$/2 включительно существует $\\varepsilon$ > 0, при котром верно условие sin y < sin(y + $\\varepsilon$).\n",
    "\n",
    "  **Ответ**: Высказывание **ложно** при $\\varepsilon$ = 3$\\pi$/2, y =0.\n",
    "    \n",
    "   **Отрицание**:\n",
    "          $\\exists$y $\\in$ [0; $\\pi$/2] $\\forall$$\\varepsilon$  > 0: sin y $\\ge$ sin(y + $\\varepsilon$)\n",
    "\n",
    "   Существует элемент y от 0 включительно до $\\pi$/2 включительно для всех $\\varepsilon$ > 0, при котром верно условие sin y $\\ge$ sin(y + $\\varepsilon$)."
   ]
  },
  {
   "cell_type": "markdown",
   "id": "51ec6640",
   "metadata": {},
   "source": [
    "### **6)** $\\forall$y $\\in$ [0; $\\pi$) $\\exists$$\\varepsilon$  > 0: cos y > cos(y + $\\varepsilon$)"
   ]
  },
  {
   "cell_type": "markdown",
   "id": "2d0f48b2",
   "metadata": {},
   "source": [
    "   Для любого y от 0 включительно до $\\pi$ существует $\\varepsilon$ > 0 при котором верно условие cos y > cos(y + $\\varepsilon$).\n",
    "\n",
    "  **Ответ**: Высказывание **Истинно** при $\\varepsilon$ $\\rightarrow$ 0\n",
    "    \n",
    "  **Отрицание**:\n",
    "          $\\exists$y $\\in$ [0; $\\pi$) $\\forall$$\\varepsilon$  > 0: cos y $\\le$ cos(y + $\\varepsilon$)\n",
    "\n",
    "   Cуществует y от 0 включительно до $\\pi$ для любого $\\varepsilon$ > 0 при котором верно условие cos y $\\le$ cos(y + $\\varepsilon$)."
   ]
  },
  {
   "cell_type": "markdown",
   "id": "84332f53",
   "metadata": {},
   "source": [
    "### **7)** $\\exists$x: x $\\notin$ {*N, Z, Q, R, C*}"
   ]
  },
  {
   "cell_type": "markdown",
   "id": "ebbe490a",
   "metadata": {},
   "source": [
    "   Cуществует х, который не принадлежит множествам натуральных, целых, рациональных, вещественных или комплексных чисел.\n",
    "\n",
    "  **Ответ**: Высказывание **Истина**, так как *х* может быть элементом множества гиперкомплексных чисел или относится к нечисловым множествам.\n",
    "    \n",
    "   **Отрицание**:\n",
    "          $\\exists$x $\\in$ *R* $\\forall$X $\\in$ *R*: X $\\le$ x\n",
    "\n",
    "   Cуществует х, который не принадлежит множествам натуральных, целых, рациональных, вещественных или комплексных чисел."
   ]
  },
  {
   "cell_type": "markdown",
   "id": "5df7617b",
   "metadata": {},
   "source": [
    "# Тема “Множество”"
   ]
  },
  {
   "cell_type": "markdown",
   "id": "915a85f1",
   "metadata": {},
   "source": [
    "## 1. Даны три множества a,b и с. Необходимо выполнить все изученные виды бинарных операций над всеми комбинациями множеств."
   ]
  },
  {
   "cell_type": "markdown",
   "id": "0dc2a6c7",
   "metadata": {},
   "source": [
    "### Дизъюнкция (объединение)"
   ]
  },
  {
   "cell_type": "markdown",
   "id": "af4a70d5",
   "metadata": {},
   "source": [
    "A $\\cup$ B $\\cup$ C от изменения мест множеств результат не изменится"
   ]
  },
  {
   "cell_type": "markdown",
   "id": "46bf5554",
   "metadata": {},
   "source": [
    "### Конъюнкция (пересечение)"
   ]
  },
  {
   "cell_type": "markdown",
   "id": "5568b0ef",
   "metadata": {},
   "source": [
    "A $\\cap$ B $\\cap$ C от изменения мест множеств результат не изменится"
   ]
  },
  {
   "cell_type": "markdown",
   "id": "3143514e",
   "metadata": {},
   "source": [
    "### Разность"
   ]
  },
  {
   "cell_type": "markdown",
   "id": "003bd828",
   "metadata": {},
   "source": [
    "A \\ (B \\ C)"
   ]
  },
  {
   "cell_type": "markdown",
   "id": "cb03578b",
   "metadata": {},
   "source": [
    "A \\ B \\ C"
   ]
  },
  {
   "cell_type": "markdown",
   "id": "8f61b971",
   "metadata": {},
   "source": [
    "A \\ (C \\ B)"
   ]
  },
  {
   "cell_type": "markdown",
   "id": "be38238d",
   "metadata": {},
   "source": [
    "B \\ A \\ C"
   ]
  },
  {
   "cell_type": "markdown",
   "id": "f199aa91",
   "metadata": {},
   "source": [
    "B \\ (A \\ C)"
   ]
  },
  {
   "cell_type": "markdown",
   "id": "9e7ebd19",
   "metadata": {},
   "source": [
    "B \\ (C \\ A)"
   ]
  },
  {
   "cell_type": "markdown",
   "id": "2f709f6f",
   "metadata": {},
   "source": [
    "C \\ (A \\ B)"
   ]
  },
  {
   "cell_type": "markdown",
   "id": "7df46ae9",
   "metadata": {},
   "source": [
    "C \\ (B \\ A)"
   ]
  },
  {
   "cell_type": "markdown",
   "id": "0ba9c867",
   "metadata": {},
   "source": [
    "C \\ A \\ B"
   ]
  },
  {
   "cell_type": "markdown",
   "id": "5f8ba899",
   "metadata": {},
   "source": [
    "### Симметрическая разность"
   ]
  },
  {
   "cell_type": "markdown",
   "id": "9c3b94e6",
   "metadata": {
    "scrolled": true
   },
   "source": [
    "A $\\oplus$ B $\\oplus$ C от изменения мест множеств результат не изменится"
   ]
  },
  {
   "cell_type": "markdown",
   "id": "0c52af73",
   "metadata": {},
   "source": [
    "## 2. Выполнить задание 1 на языке Python"
   ]
  },
  {
   "cell_type": "code",
   "execution_count": 1,
   "id": "939fecd5",
   "metadata": {},
   "outputs": [],
   "source": [
    "A = {1, 2, 3, 4, 5}\n",
    "B = {3, 1, 5, 6, 7}\n",
    "C = {7, 3, 2, 8, 9}"
   ]
  },
  {
   "cell_type": "markdown",
   "id": "fdd24836",
   "metadata": {},
   "source": [
    "### Дизъюнкция (объединение)"
   ]
  },
  {
   "cell_type": "code",
   "execution_count": 2,
   "id": "caaa5516",
   "metadata": {},
   "outputs": [
    {
     "data": {
      "text/plain": [
       "{1, 2, 3, 4, 5, 6, 7, 8, 9}"
      ]
     },
     "execution_count": 2,
     "metadata": {},
     "output_type": "execute_result"
    }
   ],
   "source": [
    "A | B | C"
   ]
  },
  {
   "cell_type": "code",
   "execution_count": 3,
   "id": "0977c301",
   "metadata": {},
   "outputs": [
    {
     "data": {
      "text/plain": [
       "{1, 2, 3, 4, 5, 6, 7, 8, 9}"
      ]
     },
     "execution_count": 3,
     "metadata": {},
     "output_type": "execute_result"
    }
   ],
   "source": [
    "A | (B | C) # от изменения мест множеств результат не изменится"
   ]
  },
  {
   "cell_type": "markdown",
   "id": "13ab8852",
   "metadata": {},
   "source": [
    "### Конъюнкция (пересечение)"
   ]
  },
  {
   "cell_type": "code",
   "execution_count": 4,
   "id": "04dd77b4",
   "metadata": {},
   "outputs": [
    {
     "data": {
      "text/plain": [
       "{3}"
      ]
     },
     "execution_count": 4,
     "metadata": {},
     "output_type": "execute_result"
    }
   ],
   "source": [
    "A & (B & C)"
   ]
  },
  {
   "cell_type": "code",
   "execution_count": 5,
   "id": "ea66092d",
   "metadata": {},
   "outputs": [
    {
     "data": {
      "text/plain": [
       "{3}"
      ]
     },
     "execution_count": 5,
     "metadata": {},
     "output_type": "execute_result"
    }
   ],
   "source": [
    "B & C & A # от изменения мест множеств результат не изменится"
   ]
  },
  {
   "cell_type": "markdown",
   "id": "2259f034",
   "metadata": {},
   "source": [
    "### Разность"
   ]
  },
  {
   "cell_type": "code",
   "execution_count": 6,
   "id": "8c569fd0",
   "metadata": {},
   "outputs": [
    {
     "data": {
      "text/plain": [
       "{2, 3, 4}"
      ]
     },
     "execution_count": 6,
     "metadata": {},
     "output_type": "execute_result"
    }
   ],
   "source": [
    "A - (B - C)"
   ]
  },
  {
   "cell_type": "code",
   "execution_count": 7,
   "id": "97b5d666",
   "metadata": {},
   "outputs": [
    {
     "data": {
      "text/plain": [
       "{4}"
      ]
     },
     "execution_count": 7,
     "metadata": {},
     "output_type": "execute_result"
    }
   ],
   "source": [
    "A - B - C"
   ]
  },
  {
   "cell_type": "code",
   "execution_count": 8,
   "id": "fe5cee17",
   "metadata": {},
   "outputs": [
    {
     "data": {
      "text/plain": [
       "{1, 3, 4, 5}"
      ]
     },
     "execution_count": 8,
     "metadata": {},
     "output_type": "execute_result"
    }
   ],
   "source": [
    "A - (C - B)"
   ]
  },
  {
   "cell_type": "code",
   "execution_count": 9,
   "id": "47e57d6b",
   "metadata": {},
   "outputs": [
    {
     "data": {
      "text/plain": [
       "{6}"
      ]
     },
     "execution_count": 9,
     "metadata": {},
     "output_type": "execute_result"
    }
   ],
   "source": [
    "B - A - C"
   ]
  },
  {
   "cell_type": "code",
   "execution_count": 10,
   "id": "72664136",
   "metadata": {},
   "outputs": [
    {
     "data": {
      "text/plain": [
       "{3, 6, 7}"
      ]
     },
     "execution_count": 10,
     "metadata": {},
     "output_type": "execute_result"
    }
   ],
   "source": [
    "B - (A - C)"
   ]
  },
  {
   "cell_type": "code",
   "execution_count": 11,
   "id": "2d4f1a2d",
   "metadata": {},
   "outputs": [
    {
     "data": {
      "text/plain": [
       "{1, 3, 5, 6}"
      ]
     },
     "execution_count": 11,
     "metadata": {},
     "output_type": "execute_result"
    }
   ],
   "source": [
    "B - (C - A)"
   ]
  },
  {
   "cell_type": "code",
   "execution_count": 12,
   "id": "4e236e33",
   "metadata": {},
   "outputs": [
    {
     "data": {
      "text/plain": [
       "{3, 7, 8, 9}"
      ]
     },
     "execution_count": 12,
     "metadata": {},
     "output_type": "execute_result"
    }
   ],
   "source": [
    "C - (A - B)"
   ]
  },
  {
   "cell_type": "code",
   "execution_count": 13,
   "id": "209a40df",
   "metadata": {},
   "outputs": [
    {
     "data": {
      "text/plain": [
       "{2, 3, 8, 9}"
      ]
     },
     "execution_count": 13,
     "metadata": {},
     "output_type": "execute_result"
    }
   ],
   "source": [
    "C - (B - A)"
   ]
  },
  {
   "cell_type": "code",
   "execution_count": 14,
   "id": "e30f710f",
   "metadata": {},
   "outputs": [
    {
     "data": {
      "text/plain": [
       "{8, 9}"
      ]
     },
     "execution_count": 14,
     "metadata": {},
     "output_type": "execute_result"
    }
   ],
   "source": [
    "C - A - B"
   ]
  },
  {
   "cell_type": "markdown",
   "id": "f33323a5",
   "metadata": {},
   "source": [
    "### Симметрическая разность"
   ]
  },
  {
   "cell_type": "code",
   "execution_count": 15,
   "id": "99b6cf08",
   "metadata": {
    "scrolled": true
   },
   "outputs": [
    {
     "data": {
      "text/plain": [
       "{3, 4, 6, 8, 9}"
      ]
     },
     "execution_count": 15,
     "metadata": {},
     "output_type": "execute_result"
    }
   ],
   "source": [
    "A ^ B ^ C"
   ]
  },
  {
   "cell_type": "code",
   "execution_count": 17,
   "id": "b3d27cee",
   "metadata": {},
   "outputs": [
    {
     "data": {
      "text/plain": [
       "{3, 4, 6, 8, 9}"
      ]
     },
     "execution_count": 17,
     "metadata": {},
     "output_type": "execute_result"
    }
   ],
   "source": [
    "C ^ (A ^ B) # от изменения мест множеств результат не изменится"
   ]
  },
  {
   "cell_type": "markdown",
   "id": "30abf4c5",
   "metadata": {},
   "source": [
    "# Тема 3 “Последовательность”"
   ]
  },
  {
   "cell_type": "markdown",
   "id": "2bab88f1",
   "metadata": {},
   "source": [
    "### *1.* Даны 4 последовательности. Необходимо:\n",
    "a) исследовать их на монотонность;\n",
    "\n",
    "b) исследовать на ограниченность;\n",
    "\n",
    "c) найти пятый по счету член.\n"
   ]
  },
  {
   "cell_type": "markdown",
   "id": "4d98adf0",
   "metadata": {},
   "source": [
    "${a}_{n=1}^{\\infty}$ = $2^n$ - n"
   ]
  },
  {
   "cell_type": "markdown",
   "id": "67a4986e",
   "metadata": {},
   "source": []
  },
  {
   "cell_type": "markdown",
   "id": "4795a957",
   "metadata": {},
   "source": [
    "${b}_{n=2}^{\\infty}$ = $\\frac{1}{1-n}$"
   ]
  },
  {
   "cell_type": "markdown",
   "id": "422b5766",
   "metadata": {},
   "source": []
  },
  {
   "cell_type": "markdown",
   "id": "1884ff85",
   "metadata": {},
   "source": [
    "${c}_{n=1}^{\\infty}$ = $-1^n$ + $\\sqrt{2n}$"
   ]
  },
  {
   "cell_type": "markdown",
   "id": "9a5b3d3c",
   "metadata": {},
   "source": []
  },
  {
   "cell_type": "markdown",
   "id": "555c23d8",
   "metadata": {},
   "source": [
    "${c}_{n=1}^{\\infty}$ = $-1^2n$ + $\\frac{1}{n^2}$"
   ]
  },
  {
   "cell_type": "markdown",
   "id": "2f16fad0",
   "metadata": {},
   "source": []
  },
  {
   "cell_type": "markdown",
   "id": "c2426a3e",
   "metadata": {},
   "source": []
  },
  {
   "cell_type": "markdown",
   "id": "19fa2c13",
   "metadata": {},
   "source": []
  },
  {
   "cell_type": "markdown",
   "id": "2024ecaf",
   "metadata": {},
   "source": []
  },
  {
   "cell_type": "markdown",
   "id": "ce4b8509",
   "metadata": {},
   "source": []
  },
  {
   "cell_type": "markdown",
   "id": "28dab028",
   "metadata": {},
   "source": []
  }
 ],
 "metadata": {
  "kernelspec": {
   "display_name": "Python 3 (ipykernel)",
   "language": "python",
   "name": "python3"
  },
  "language_info": {
   "codemirror_mode": {
    "name": "ipython",
    "version": 3
   },
   "file_extension": ".py",
   "mimetype": "text/x-python",
   "name": "python",
   "nbconvert_exporter": "python",
   "pygments_lexer": "ipython3",
   "version": "3.9.2"
  }
 },
 "nbformat": 4,
 "nbformat_minor": 5
}
