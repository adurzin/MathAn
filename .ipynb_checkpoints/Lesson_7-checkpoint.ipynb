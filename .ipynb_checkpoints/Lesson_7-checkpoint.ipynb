{
 "cells": [
  {
   "cell_type": "markdown",
   "id": "b6ffdd43",
   "metadata": {},
   "source": [
    "## 1. Найти длину х и ширину y прямоугольника при заданном периметре Р=144 см, при которых данный прямоугольник имеет наибольшую площадь S."
   ]
  },
  {
   "cell_type": "markdown",
   "id": "8bad5741",
   "metadata": {},
   "source": [
    "### $ P = 2x + 2y = 144 => x = \\frac{P}{2} - y \\\\\n",
    "S = x \\cdot y \\\\\n",
    "S = (\\frac{P}{2} - y) \\cdot y = 72y - y^{2} \\\\\n",
    "S'(y) = 72 - 2y \\\\\n",
    "72 - 2y = 0 \\\\\n",
    "y = 36 \\\\\n",
    "x = 72 - 36 = 36 $\n",
    "### **Ответ: х = 36 см, у = 36 см**"
   ]
  },
  {
   "cell_type": "markdown",
   "id": "56b5d46a",
   "metadata": {},
   "source": [
    "## 2. Найти экстремумы функций (если они есть)."
   ]
  },
  {
   "cell_type": "markdown",
   "id": "7d0b6950",
   "metadata": {},
   "source": [
    "### a) $ y=|2x|$"
   ]
  },
  {
   "cell_type": "markdown",
   "id": "7071e0f1",
   "metadata": {},
   "source": [
    "**Ответ: точка экстремума функции одна $x=0$**"
   ]
  },
  {
   "cell_type": "markdown",
   "id": "d2b98927",
   "metadata": {},
   "source": [
    "### b) $ y= x^{3}$"
   ]
  },
  {
   "cell_type": "markdown",
   "id": "64e9f987",
   "metadata": {},
   "source": [
    "$y'(x) = 3x^{2} \\\\\n",
    "3x^{2} = 0 => x = 0 \\\\\n",
    "y'(-1) = (-1)^{2} = 1 > 0 \\\\\n",
    "y'(1) = 1^{2} = 1 > 0 \\\\ $\n",
    "**Ответ: точек экстремума нет**"
   ]
  },
  {
   "cell_type": "markdown",
   "id": "7afb30ed",
   "metadata": {},
   "source": [
    "### c) $ y= e^{3x}$"
   ]
  },
  {
   "cell_type": "markdown",
   "id": "a7b8af88",
   "metadata": {},
   "source": [
    "$y'(x) = 3e^{3x} \\\\\n",
    "3e^{3x} \\ne 0 \\\\\n",
    "$\n",
    "**Ответ: точки экстремума отсутствуют**"
   ]
  },
  {
   "cell_type": "markdown",
   "id": "07409042",
   "metadata": {},
   "source": [
    "### d) $ y= x^{3} - 5x$"
   ]
  },
  {
   "cell_type": "markdown",
   "id": "871a8bfa",
   "metadata": {},
   "source": [
    "$y'(x) = 3x^{2} - 5 \\\\\n",
    "3x^{2} - 5 = 0 => x_{1} = \\sqrt{\\frac{5}{3}} \\ x_{2} = -\\sqrt{\\frac{5}{3}} \\\\ \n",
    "y'(-2) = 3 \\cdot (-2)^{2} - 5 = 7 > 0 \\\\\n",
    "y'(0) = 3 \\cdot (0)^{2} - 5 = -5 < 0 \\\\\n",
    "y'(2) = 3 \\cdot (2)^{2} - 5 = 7 > 0 \\\\\n",
    "$\n",
    "**Ответ: точки экстремума функции у: $x_{1} = \\sqrt{\\frac{5}{3}} \\ и \\ x_{2} = -\\sqrt{\\frac{5}{3}} $**"
   ]
  }
 ],
 "metadata": {
  "kernelspec": {
   "display_name": "Python 3 (ipykernel)",
   "language": "python",
   "name": "python3"
  },
  "language_info": {
   "codemirror_mode": {
    "name": "ipython",
    "version": 3
   },
   "file_extension": ".py",
   "mimetype": "text/x-python",
   "name": "python",
   "nbconvert_exporter": "python",
   "pygments_lexer": "ipython3",
   "version": "3.9.2"
  }
 },
 "nbformat": 4,
 "nbformat_minor": 5
}
