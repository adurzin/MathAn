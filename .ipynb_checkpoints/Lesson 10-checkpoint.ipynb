{
 "cells": [
  {
   "cell_type": "markdown",
   "id": "6d349a8c",
   "metadata": {},
   "source": [
    "# Тема 8 \"Понятие об интеграле\""
   ]
  },
  {
   "cell_type": "markdown",
   "id": "7e517877",
   "metadata": {},
   "source": [
    "### 1. Найти неопределенный интеграл:\n",
    "### $ \\int (2x^{2}-2x-1+sin(x)-cos(x)+ln(x)+e^{x})dx\n",
    "$"
   ]
  },
  {
   "cell_type": "markdown",
   "id": "1c3acd4d",
   "metadata": {},
   "source": [
    "### $\n",
    "\\int 1\\cdot ln(x)dx\\Rightarrow \n",
    "\\begin{cases}\n",
    "U = ln(x) \\Rightarrow dU = \\frac{1}{x} \\\\\n",
    "dV = 1 \\Rightarrow V = x\n",
    "\\end{cases} = xln(x) - \\int x \\frac{1}{x}dx = xln(x) - x\\\\\n",
    "\\int (2x^{2}-2x-1+sin(x)-cos(x)+ln(x)+e^{x})dx = \\frac{2x^{3}}{3} - x^{2} - x - cos(x) - sin(x) + xln(x) - x + e^{x} + C = \\frac{2x^{3}}{3} - x^{2} - 2x - cos(x) - sin(x) + xln(x) + e^{x} + C\n",
    "$"
   ]
  },
  {
   "cell_type": "markdown",
   "id": "c482f9b3",
   "metadata": {},
   "source": [
    "### 2. Найти неопределенный интеграл:\n",
    "### $ \\int (2x+6xz^{2}-5x^{2}y-3ln(z))dx\n",
    "$"
   ]
  },
  {
   "cell_type": "markdown",
   "id": "95ddbb34",
   "metadata": {},
   "source": [
    "### $ \\int (2x+6xz^{2}-5x^{2}y-3ln(z))dx = \\frac{2x^{2}}{2} + \\frac{6x^{2}z^{2}}{2} - \\frac{5x^{3}y}{3} - 3xln(z) + C = x^{2} + 3x^{2}z^{2} - \\frac{5x^{3}y}{3} - 3xln(z) + C\n",
    "$"
   ]
  },
  {
   "cell_type": "markdown",
   "id": "a1f7b972",
   "metadata": {},
   "source": [
    "### 3. Вычислить определенный интеграл:\n",
    "### $ \\int^{\\pi}_{0} 3x^{2}sin(2x)dx\n",
    "$"
   ]
  },
  {
   "cell_type": "markdown",
   "id": "613d4b44",
   "metadata": {},
   "source": [
    "### $ \\int^{\\pi}_{0} 3x^{2}sin(2x)dx = 3\\int^{\\pi}_{0} x^{2}sin(2x)dx \\Rightarrow\n",
    "\\begin{cases}\n",
    "U = x^2 \\Rightarrow dU = 2x dx \\\\\n",
    "dV = sin(2x)dx \\Rightarrow V = -\\frac{cos(2x)}{2}\n",
    "\\end{cases} \\\\\n",
    "\\Rightarrow 3(-\\frac{x^2\\cdot cos(2x)}{2}|^{\\pi}_{0} - \\int -\\frac{2x\\cdot cos(2x)}{2}) \\Rightarrow\n",
    "\\begin{cases}\n",
    "U = x \\Rightarrow dU = 1dx \\\\\n",
    "dV = cos(2x)dx \\Rightarrow V = \\frac{sin(2x)}{2}\n",
    "\\end{cases} \\\\ \\Rightarrow \n",
    "-\\frac{3x^2\\cdot cos(2x)}{2}|^{\\pi}_{0} + \\frac{3x\\cdot sin(2x)}{2}|^{\\pi}_{0} - \\int 1\\cdot \\frac{sin(2x)}{2}dx = \n",
    "-\\frac{3x^2\\cdot cos(2x)} + \\frac{3x\\cdot sin(2x)}{2} + \\frac{3cos(2x)}{4} + C)|^{\\pi}_{0} = -\\frac{3\\pi^2 cos(2\\pi)}{2} + \\frac{3\\pi sin(2\\pi)}{2} + \\frac{3cos(2\\pi)}{4} - 0 - 0 - \\frac{3cos(0)}{4} = -\\frac{3\\pi^2}{2} + \\frac{3}{4} - \\frac{3}{4} = -\\frac{3\\pi^2}{2}\n",
    "$\n",
    "\n",
    "### Ответ: $-\\frac{3\\pi^2}{2}$"
   ]
  },
  {
   "cell_type": "markdown",
   "id": "70d3188a",
   "metadata": {},
   "source": [
    "### 4. Найти неопределенный интеграл:\n",
    "### $ \\int \\frac{1}{\\sqrt{x+1}}dx\n",
    "$"
   ]
  },
  {
   "cell_type": "markdown",
   "id": "7a82d7f5",
   "metadata": {},
   "source": [
    "### $ \\int \\frac{1}{\\sqrt{x+1}}dx = \\int (x+1)^{-\\frac{1}{2}}d(x+1) = 2\\sqrt(x+1) + C\n",
    "$"
   ]
  }
 ],
 "metadata": {
  "kernelspec": {
   "display_name": "Python 3 (ipykernel)",
   "language": "python",
   "name": "python3"
  },
  "language_info": {
   "codemirror_mode": {
    "name": "ipython",
    "version": 3
   },
   "file_extension": ".py",
   "mimetype": "text/x-python",
   "name": "python",
   "nbconvert_exporter": "python",
   "pygments_lexer": "ipython3",
   "version": "3.10.0"
  }
 },
 "nbformat": 4,
 "nbformat_minor": 5
}
