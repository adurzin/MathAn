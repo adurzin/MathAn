{
 "cells": [
  {
   "cell_type": "markdown",
   "id": "87378845",
   "metadata": {},
   "source": [
    "## Исследовать функцию на условный экстремум"
   ]
  },
  {
   "cell_type": "markdown",
   "id": "141e43fc",
   "metadata": {},
   "source": [
    "### 1) $ U = 3 - 8x + 6y, \\ если \\ x^{2} + y^{2} = 36\n",
    "$"
   ]
  },
  {
   "cell_type": "markdown",
   "id": "d1106008",
   "metadata": {},
   "source": [
    "$ L(\\lambda,x,y) = 3 - 8x +6y+\\lambda(x^{2}+y^{2}-36) \\\\\n",
    "\\begin{cases}\n",
    "L'_{x} = -8 + 2 \\lambda x =0  & \\Rightarrow & x = \\frac{4}{\\lambda} \\\\\n",
    "L'{y} = 6 + 2 \\lambda y = 0   &  \\Rightarrow & y = -\\frac{3}{\\lambda}\\\\\n",
    "L'{\\lambda} = x^{2} + y^{2} - 36 = 0 &  \\Rightarrow & \\lambda_{1} = \\frac{6}{5} & \\lambda_{2} = -\\frac{6}{5}\\\\\n",
    "\\end{cases} \\\\\n",
    "(\\frac{6}{5}; \\frac{10}{3}; -\\frac{5}{2}) \\   \n",
    "(-\\frac{6}{5}; -\\frac{10}{3}; \\frac{5}{2}) \\\\\n",
    "L^{''}_{xx} = 2\\lambda; \\\\\n",
    "L^{''}_{yy} = 2\\lambda; \\\\\n",
    "L^{''}_{xy}=L''_{yx} = 0; \\\\\n",
    "L^{''}_{\\lambda\\lambda} = 0; \\\\\n",
    "L^{''}_{\\lambda x} = L''_{x \\lambda} = 2x; \\\\\n",
    "L^{''}_{\\lambda y} = L''_{y \\lambda} = 2y \\\\\n",
    "\\begin{bmatrix}\n",
    "0 & 2x & 2y \\\\\n",
    "2x & 2\\lambda & 0 \\\\\n",
    "2y & 0 & 2\\lambda\n",
    "\\end{bmatrix} = 0 - 2x\\cdot \\begin{bmatrix} 2x & 0 \\\\ 2y & 2\\lambda \\end{bmatrix} + 2y\\cdot \\begin{bmatrix} 2x & 2\\lambda \\\\ 2y & 0 \\end{bmatrix} = -8x^{2} - 8y^{2}\\lambda = -2x\\cdot(2x\\cdot2\\lambda) + 2y\\cdot(-2y\\cdot2\\lambda) =-8\\lambda(x^{2}+y^{2});$\n",
    "#### Ответ:  $\n",
    "(\\frac{6}{5}; \\frac{10}{3}; -\\frac{5}{2}) \\Rightarrow -8\\cdot\\frac{6}{5}\\cdot(\\frac{100}{9} + \\frac{25}{4}) = -\\frac{500}{3} < 0 - условный \\ минимум \\ функции; \\\\\n",
    "(-\\frac{6}{5}; -\\frac{10}{3}; \\frac{5}{2})  \\Rightarrow 8\\cdot\\frac{6}{5}\\cdot(\\frac{100}{9} + \\frac{25}{4}) = \\frac{500}{3} > 0 - условный \\ максимум \\ функции\n",
    "$"
   ]
  },
  {
   "cell_type": "markdown",
   "id": "d034ebc0",
   "metadata": {},
   "source": [
    "### 2) $ U = 2x^{2} + 12xy + 32y^{2} + 15, если \\ x^{2} + 16y^{2} = 64\n",
    "$"
   ]
  },
  {
   "cell_type": "markdown",
   "id": "abf809b5",
   "metadata": {},
   "source": [
    "$ L(\\lambda,x,y) = 2x^{2} +12xy +32y^{2}+\\lambda(x^{2}+y^{2}-36) \\\\\n",
    "\\begin{cases}\n",
    "L'_{x} = 4x+12y+2\\lambda x =0 \\\\\n",
    "L'{y} = 12x+64y+32\\lambda y = 0\\\\\n",
    "L'{\\lambda} = x^{2} + y^{2} - 36 = 0\\\\\n",
    "\\end{cases} \\\\\n",
    "(1) \\ (-\\frac{7}{2}; 4\\sqrt{2}; \\sqrt{2}) \\\\  \n",
    "(2) \\ (-\\frac{7}{2}; -4\\sqrt{2}; -\\sqrt{2}) \\\\\n",
    "(3) \\ (-\\frac{1}{2}; -4\\sqrt{2}; \\sqrt{2}) \\\\\n",
    "(4) \\ (-\\frac{1}{2}; 4\\sqrt{2}; -\\sqrt{2}) \\\\\n",
    "L^{''}_{xx} = 4 + 2\\lambda; \\\\\n",
    "L^{''}_{yy} = 64 + 32\\lambda; \\\\\n",
    "L^{''}_{xy}=L''_{yx} = 12; \\\\\n",
    "L^{''}_{\\lambda\\lambda} = 0; \\\\\n",
    "L^{''}_{\\lambda x} = L''_{x \\lambda} = 2x; \\\\\n",
    "L^{''}_{\\lambda y} = L''_{y \\lambda} = 32y \\\\\n",
    "\\begin{bmatrix}\n",
    "0 & 2x & 32y \\\\\n",
    "2x & 4 + 2\\lambda & 12 \\\\\n",
    "32y & 12 & 64 + 32\\lambda\n",
    "\\end{bmatrix} = 0 - 2x\\cdot \\begin{bmatrix} 2x & 12 \\\\ 32y & 64 + 32\\lambda \\end{bmatrix} + 32y\\cdot \\begin{bmatrix} 2x & 4 + 2\\lambda \\\\ 32y & 12 \\end{bmatrix} = -2x(2x(64+32\\lambda) - 12\\cdot 32y) + 32y(2x\\cdot 12 - 32y(4+2\\lambda))\n",
    "=-128(2x^{2} + \\lambda x^{2} - 12yx + 32y^{2} + 16\\lambda y^{2});$\n",
    "#### Ответ:  $\n",
    "(1) \\ (-\\frac{7}{2}; 4\\sqrt{2}; \\sqrt{2})  = -128 \\cdot (64-112-96+64-112) = 24576 > 0 - условный \\ максимум \\ функции \\\\  \n",
    "(2) \\ (-\\frac{7}{2}; -4\\sqrt{2}; -\\sqrt{2})  = -128 \\cdot (64-112-96+64-112) = 24576 > 0 - условный \\ максимум \\ функции \\\\\n",
    "(3) \\ (-\\frac{1}{2}; -4\\sqrt{2}; \\sqrt{2})   = -128 \\cdot (64 - 16+96+64-16) = - 24576 < 0 - условный \\ минимум \\ функции \\\\\n",
    "(4) \\ (-\\frac{1}{2}; 4\\sqrt{2}; -\\sqrt{2})  = -128 \\cdot (64 - 16+96+64-16) = - 24576 < 0 - условный \\ минимум \\ функции \\\\\n",
    "$"
   ]
  },
  {
   "cell_type": "markdown",
   "id": "5b77237c",
   "metadata": {},
   "source": [
    "### 3. Найти производную функции $ U = x^{2} + y^{2} + z^{2}$ по направлению вектора $\\vec{c}(-9,8,-12)$ в точке$ M(8;-12;9)$."
   ]
  },
  {
   "cell_type": "markdown",
   "id": "0a3338e2",
   "metadata": {},
   "source": [
    "$|{\\vec{c}}| = \\sqrt{81+64+144} = \\sqrt{289} = 17 \\\\\n",
    "\\vec{c_{0}} = (-\\frac{9}{17}, \\frac{8}{17}, -\\frac{12}{17}) \\\\ \n",
    "U'_{x} = 2x; \\: U'_{y} = 2y; \\ U'_{z} = 2z. \\\\\n",
    "grad \\ U'_{\\vec{c}}|_{M} = (16; -24; 18) \\\\\n",
    "\\frac{U'_{\\vec{c}}}{dl}|_{M} = (-\\frac{144}{17}-\\frac{192}{17}-\\frac{216}{17}) = -\\frac{552}{17}\n",
    "$"
   ]
  },
  {
   "cell_type": "markdown",
   "id": "ff159bcf",
   "metadata": {},
   "source": [
    "### 4. Найти производную функции $ U = e^{x^{2} + y^{2} + z^{2}}$ по направлению вектора $\\vec{d}(4,-13,-16) $ в точке $L(-16;4;-13)$."
   ]
  },
  {
   "cell_type": "markdown",
   "id": "35702061",
   "metadata": {},
   "source": [
    "$|{\\vec{d}}| = \\sqrt{16+169+256} = \\sqrt{441} = 21 \\\\\n",
    "\\vec{d_{0}} = (\\frac{4}{21}, -\\frac{-13}{21}, -\\frac{16}{21}) \\\\ \n",
    "U'_{x} = e^{x^{2} + y^{2} + z^{2}} \\cdot 2x; \\: U'_{y} = e^{x^{2} + y^{2} + z^{2}} \\cdot 2y; \\ U'_{z} = e^{x^{2} + y^{2} + z^{2}} \\cdot 2z. \\\\\n",
    "grad \\ U'_{\\vec{d}}|_{L} = (-32e^{441}; 8e^{441}; -26e^{441}) \\\\\n",
    "\\frac{U'_{\\vec{d}}}{dl}|_{L} = e^{441} \\cdot (-\\frac{128}{21}-\\frac{104}{21}+\\frac{416}{21}) = \\frac{184}{21}\\cdot e^{441}\n",
    "$"
   ]
  }
 ],
 "metadata": {
  "kernelspec": {
   "display_name": "Python 3 (ipykernel)",
   "language": "python",
   "name": "python3"
  },
  "language_info": {
   "codemirror_mode": {
    "name": "ipython",
    "version": 3
   },
   "file_extension": ".py",
   "mimetype": "text/x-python",
   "name": "python",
   "nbconvert_exporter": "python",
   "pygments_lexer": "ipython3",
   "version": "3.10.0"
  }
 },
 "nbformat": 4,
 "nbformat_minor": 5
}
